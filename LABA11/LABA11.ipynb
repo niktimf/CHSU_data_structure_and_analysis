{
 "cells": [
  {
   "metadata": {},
   "cell_type": "markdown",
   "source": [
    "# Этап 2. Исследование и подготовка данных\n",
    "1. Загрузите файл snsdata.csv в рабочее пространство Google Colaboratory.\n",
    "2. Начните работу с кейсом, добавив импорт библиотеки pandas.\n",
    "3. Прочитайте файл данных snsdata.csv, используя библиотеку pandas, получите сводную\n",
    "информацию по фрейму данных data.\n",
    "4. Изучите значения переменной gender, используя value_counts()\n",
    "5. Если изучить другие переменные во фрейме данных, то обнаружится, что, кроме пола,\n",
    "отсутствующие значения есть только у переменной возраста (age). Для числовых\n",
    "данных можно получить статистическую сводку с помощью describe().\n",
    "6. Измените значения возраста меньшие 13 и большие 20 на NAN.\n",
    "7. Запросите статистику по переменной age.\n",
    "8. Выполните фиктивное кодирование для переменных женского и неопределенного\n",
    "пола.\n",
    "9. Посмотрите, как изменилась структура фрейма данных data.\n",
    "10. Чтобы убедиться, что все сделано правильно, сравните созданные фиктивные\n",
    "переменные с исходной переменной gender.\n",
    "11. Рассчитайте средний возраст школьников, используя mean модуля DataFrame\n",
    "библиотеки pandas.\n",
    "12. Вычислите среднее значение возраста для 2006, 2007, 2008, 2009 годов выпуска.\n",
    "Средний возраст каждого года выпуска отличается примерно на один год. Это является\n",
    "хорошим подтверждением того, что наши данные разумны.\n",
    "13. Замените недостающие данные возраста в фрейме данных data на среднее значение\n",
    "возраста для данного года выпуска.\n",
    "14. Проверьте, остались ли пустые значения в переменной age."
   ],
   "id": "c822b593d2e9b506"
  },
  {
   "metadata": {
    "ExecuteTime": {
     "end_time": "2024-10-21T16:02:08.356929Z",
     "start_time": "2024-10-21T16:02:08.213506Z"
    }
   },
   "cell_type": "code",
   "source": [
    "# Импортируем необходимые библиотеки\n",
    "import pandas as pd\n",
    "import numpy as np\n",
    "\n",
    "# Шаг 2.1 - 2.3\n",
    "data = pd.read_csv('snsdata.csv')\n",
    "\n",
    "data_info = data.info()\n",
    "data_head = data.head()\n",
    "data_describe = data.describe()\n",
    "\n",
    "data_info, data_head, data_describe"
   ],
   "id": "9459e8a8c3eda79e",
   "outputs": [
    {
     "name": "stdout",
     "output_type": "stream",
     "text": [
      "<class 'pandas.core.frame.DataFrame'>\n",
      "RangeIndex: 30000 entries, 0 to 29999\n",
      "Data columns (total 40 columns):\n",
      " #   Column        Non-Null Count  Dtype  \n",
      "---  ------        --------------  -----  \n",
      " 0   gradyear      30000 non-null  int64  \n",
      " 1   gender        27276 non-null  object \n",
      " 2   age           24914 non-null  float64\n",
      " 3   friends       30000 non-null  int64  \n",
      " 4   basketball    30000 non-null  int64  \n",
      " 5   football      30000 non-null  int64  \n",
      " 6   soccer        30000 non-null  int64  \n",
      " 7   softball      30000 non-null  int64  \n",
      " 8   volleyball    30000 non-null  int64  \n",
      " 9   swimming      30000 non-null  int64  \n",
      " 10  cheerleading  30000 non-null  int64  \n",
      " 11  baseball      30000 non-null  int64  \n",
      " 12  tennis        30000 non-null  int64  \n",
      " 13  sports        30000 non-null  int64  \n",
      " 14  cute          30000 non-null  int64  \n",
      " 15  sex           30000 non-null  int64  \n",
      " 16  sexy          30000 non-null  int64  \n",
      " 17  hot           30000 non-null  int64  \n",
      " 18  kissed        30000 non-null  int64  \n",
      " 19  dance         30000 non-null  int64  \n",
      " 20  band          30000 non-null  int64  \n",
      " 21  marching      30000 non-null  int64  \n",
      " 22  music         30000 non-null  int64  \n",
      " 23  rock          30000 non-null  int64  \n",
      " 24  god           30000 non-null  int64  \n",
      " 25  church        30000 non-null  int64  \n",
      " 26  jesus         30000 non-null  int64  \n",
      " 27  bible         30000 non-null  int64  \n",
      " 28  hair          30000 non-null  int64  \n",
      " 29  dress         30000 non-null  int64  \n",
      " 30  blonde        30000 non-null  int64  \n",
      " 31  mall          30000 non-null  int64  \n",
      " 32  shopping      30000 non-null  int64  \n",
      " 33  clothes       30000 non-null  int64  \n",
      " 34  hollister     30000 non-null  int64  \n",
      " 35  abercrombie   30000 non-null  int64  \n",
      " 36  die           30000 non-null  int64  \n",
      " 37  death         30000 non-null  int64  \n",
      " 38  drunk         30000 non-null  int64  \n",
      " 39  drugs         30000 non-null  int64  \n",
      "dtypes: float64(1), int64(38), object(1)\n",
      "memory usage: 9.2+ MB\n"
     ]
    },
    {
     "data": {
      "text/plain": [
       "(None,\n",
       "    gradyear gender     age  friends  basketball  football  soccer  softball  \\\n",
       " 0      2006      M  18.982        7           0         0       0         0   \n",
       " 1      2006      F  18.801        0           0         1       0         0   \n",
       " 2      2006      M  18.335       69           0         1       0         0   \n",
       " 3      2006      F  18.875        0           0         0       0         0   \n",
       " 4      2006    NaN  18.995       10           0         0       0         0   \n",
       " \n",
       "    volleyball  swimming  ...  blonde  mall  shopping  clothes  hollister  \\\n",
       " 0           0         0  ...       0     0         0        0          0   \n",
       " 1           0         0  ...       0     1         0        0          0   \n",
       " 2           0         0  ...       0     0         0        0          0   \n",
       " 3           0         0  ...       0     0         0        0          0   \n",
       " 4           0         0  ...       0     0         2        0          0   \n",
       " \n",
       "    abercrombie  die  death  drunk  drugs  \n",
       " 0            0    0      0      0      0  \n",
       " 1            0    0      0      0      0  \n",
       " 2            0    0      1      0      0  \n",
       " 3            0    0      0      0      0  \n",
       " 4            0    0      0      1      1  \n",
       " \n",
       " [5 rows x 40 columns],\n",
       "            gradyear           age       friends    basketball      football  \\\n",
       " count  30000.000000  24914.000000  30000.000000  30000.000000  30000.000000   \n",
       " mean    2007.500000     17.993950     30.179467      0.267333      0.252300   \n",
       " std        1.118053      7.858054     36.530877      0.804708      0.705357   \n",
       " min     2006.000000      3.086000      0.000000      0.000000      0.000000   \n",
       " 25%     2006.750000     16.312000      3.000000      0.000000      0.000000   \n",
       " 50%     2007.500000     17.287000     20.000000      0.000000      0.000000   \n",
       " 75%     2008.250000     18.259000     44.000000      0.000000      0.000000   \n",
       " max     2009.000000    106.927000    830.000000     24.000000     15.000000   \n",
       " \n",
       "              soccer      softball    volleyball     swimming  cheerleading  \\\n",
       " count  30000.000000  30000.000000  30000.000000  30000.00000  30000.000000   \n",
       " mean       0.222767      0.161200      0.143133      0.13440      0.106633   \n",
       " std        0.917226      0.739707      0.639943      0.51699      0.514333   \n",
       " min        0.000000      0.000000      0.000000      0.00000      0.000000   \n",
       " 25%        0.000000      0.000000      0.000000      0.00000      0.000000   \n",
       " 50%        0.000000      0.000000      0.000000      0.00000      0.000000   \n",
       " 75%        0.000000      0.000000      0.000000      0.00000      0.000000   \n",
       " max       27.000000     17.000000     14.000000     31.00000      9.000000   \n",
       " \n",
       "        ...        blonde          mall      shopping      clothes  \\\n",
       " count  ...  30000.000000  30000.000000  30000.000000  30000.00000   \n",
       " mean   ...      0.098933      0.257367      0.353000      0.14850   \n",
       " std    ...      1.942319      0.695758      0.724391      0.47264   \n",
       " min    ...      0.000000      0.000000      0.000000      0.00000   \n",
       " 25%    ...      0.000000      0.000000      0.000000      0.00000   \n",
       " 50%    ...      0.000000      0.000000      0.000000      0.00000   \n",
       " 75%    ...      0.000000      0.000000      1.000000      0.00000   \n",
       " max    ...    327.000000     12.000000     11.000000      8.00000   \n",
       " \n",
       "           hollister   abercrombie           die         death         drunk  \\\n",
       " count  30000.000000  30000.000000  30000.000000  30000.000000  30000.000000   \n",
       " mean       0.069867      0.051167      0.184100      0.114233      0.087967   \n",
       " std        0.346779      0.279555      0.624516      0.436796      0.399125   \n",
       " min        0.000000      0.000000      0.000000      0.000000      0.000000   \n",
       " 25%        0.000000      0.000000      0.000000      0.000000      0.000000   \n",
       " 50%        0.000000      0.000000      0.000000      0.000000      0.000000   \n",
       " 75%        0.000000      0.000000      0.000000      0.000000      0.000000   \n",
       " max        9.000000      8.000000     22.000000     14.000000      8.000000   \n",
       " \n",
       "               drugs  \n",
       " count  30000.000000  \n",
       " mean       0.060433  \n",
       " std        0.345522  \n",
       " min        0.000000  \n",
       " 25%        0.000000  \n",
       " 50%        0.000000  \n",
       " 75%        0.000000  \n",
       " max       16.000000  \n",
       " \n",
       " [8 rows x 39 columns])"
      ]
     },
     "execution_count": 2,
     "metadata": {},
     "output_type": "execute_result"
    }
   ],
   "execution_count": 2
  },
  {
   "metadata": {
    "ExecuteTime": {
     "end_time": "2024-10-21T16:03:26.558678Z",
     "start_time": "2024-10-21T16:03:26.547611Z"
    }
   },
   "cell_type": "code",
   "source": [
    "# Шаг 2.4 gender и включая NaN\n",
    "gender_distribution = data['gender'].value_counts(dropna=False)\n",
    "\n",
    "# Шаг 2.5\n",
    "age_describe_before = data['age'].describe()\n",
    "\n",
    "# Шаг 2.6 Меняем возраст, выходящий за пределы 13-20 лет, на NaN\n",
    "data.loc[(data['age'] < 13) | (data['age'] > 20), 'age'] = np.nan\n",
    "\n",
    "# Шаг 2.7 Статистику по переменной age после очистки\n",
    "age_describe_after = data['age'].describe()\n",
    "\n",
    "print(f'Распределение по полу (включая NaN):\\n{gender_distribution}')\n",
    "print(f'\\nСтатистика по возрасту до очистки:\\n{age_describe_before}')\n",
    "print(f'\\nСтатистика по возрасту после очистки:\\n{age_describe_after}')"
   ],
   "id": "4734190098c83da",
   "outputs": [
    {
     "name": "stdout",
     "output_type": "stream",
     "text": [
      "Распределение по полу (включая NaN):\n",
      "gender\n",
      "F      22054\n",
      "M       5222\n",
      "NaN     2724\n",
      "Name: count, dtype: int64\n",
      "\n",
      "Статистика по возрасту до очистки:\n",
      "count    24477.000000\n",
      "mean        17.252429\n",
      "std          1.157465\n",
      "min         13.027000\n",
      "25%         16.304000\n",
      "50%         17.265000\n",
      "75%         18.220000\n",
      "max         19.995000\n",
      "Name: age, dtype: float64\n",
      "\n",
      "Статистика по возрасту после очистки:\n",
      "count    24477.000000\n",
      "mean        17.252429\n",
      "std          1.157465\n",
      "min         13.027000\n",
      "25%         16.304000\n",
      "50%         17.265000\n",
      "75%         18.220000\n",
      "max         19.995000\n",
      "Name: age, dtype: float64\n"
     ]
    }
   ],
   "execution_count": 4
  },
  {
   "metadata": {
    "ExecuteTime": {
     "end_time": "2024-10-21T16:12:21.628972Z",
     "start_time": "2024-10-21T16:12:21.610683Z"
    }
   },
   "cell_type": "code",
   "source": [
    "# Шаг 2.8 \n",
    "data['no_gender'] = data['gender'].replace(['F', 'M', np.nan], [0, 0, 1])\n",
    "data['female'] = data['gender'].replace(['F', 'M', np.nan], [1, 0, 0])"
   ],
   "id": "cf15fda47d169049",
   "outputs": [],
   "execution_count": 5
  },
  {
   "metadata": {
    "ExecuteTime": {
     "end_time": "2024-10-21T16:12:28.550118Z",
     "start_time": "2024-10-21T16:12:28.542253Z"
    }
   },
   "cell_type": "code",
   "source": [
    "# Шаг 2.9 Структура фрейма данных после фиктивного кодирования\n",
    "data_info_after_dummy = data.info()\n",
    "data_info_after_dummy"
   ],
   "id": "2bee930890e0d4f0",
   "outputs": [
    {
     "name": "stdout",
     "output_type": "stream",
     "text": [
      "<class 'pandas.core.frame.DataFrame'>\n",
      "RangeIndex: 30000 entries, 0 to 29999\n",
      "Data columns (total 42 columns):\n",
      " #   Column        Non-Null Count  Dtype  \n",
      "---  ------        --------------  -----  \n",
      " 0   gradyear      30000 non-null  int64  \n",
      " 1   gender        27276 non-null  object \n",
      " 2   age           24477 non-null  float64\n",
      " 3   friends       30000 non-null  int64  \n",
      " 4   basketball    30000 non-null  int64  \n",
      " 5   football      30000 non-null  int64  \n",
      " 6   soccer        30000 non-null  int64  \n",
      " 7   softball      30000 non-null  int64  \n",
      " 8   volleyball    30000 non-null  int64  \n",
      " 9   swimming      30000 non-null  int64  \n",
      " 10  cheerleading  30000 non-null  int64  \n",
      " 11  baseball      30000 non-null  int64  \n",
      " 12  tennis        30000 non-null  int64  \n",
      " 13  sports        30000 non-null  int64  \n",
      " 14  cute          30000 non-null  int64  \n",
      " 15  sex           30000 non-null  int64  \n",
      " 16  sexy          30000 non-null  int64  \n",
      " 17  hot           30000 non-null  int64  \n",
      " 18  kissed        30000 non-null  int64  \n",
      " 19  dance         30000 non-null  int64  \n",
      " 20  band          30000 non-null  int64  \n",
      " 21  marching      30000 non-null  int64  \n",
      " 22  music         30000 non-null  int64  \n",
      " 23  rock          30000 non-null  int64  \n",
      " 24  god           30000 non-null  int64  \n",
      " 25  church        30000 non-null  int64  \n",
      " 26  jesus         30000 non-null  int64  \n",
      " 27  bible         30000 non-null  int64  \n",
      " 28  hair          30000 non-null  int64  \n",
      " 29  dress         30000 non-null  int64  \n",
      " 30  blonde        30000 non-null  int64  \n",
      " 31  mall          30000 non-null  int64  \n",
      " 32  shopping      30000 non-null  int64  \n",
      " 33  clothes       30000 non-null  int64  \n",
      " 34  hollister     30000 non-null  int64  \n",
      " 35  abercrombie   30000 non-null  int64  \n",
      " 36  die           30000 non-null  int64  \n",
      " 37  death         30000 non-null  int64  \n",
      " 38  drunk         30000 non-null  int64  \n",
      " 39  drugs         30000 non-null  int64  \n",
      " 40  no_gender     30000 non-null  float64\n",
      " 41  female        30000 non-null  float64\n",
      "dtypes: float64(3), int64(38), object(1)\n",
      "memory usage: 9.6+ MB\n"
     ]
    }
   ],
   "execution_count": 6
  },
  {
   "metadata": {
    "ExecuteTime": {
     "end_time": "2024-10-21T16:13:59.651521Z",
     "start_time": "2024-10-21T16:13:59.645040Z"
    }
   },
   "cell_type": "code",
   "source": [
    "# Шаг 2.10 Сравниваем созданные фиктивные переменные с исходной переменной gender\n",
    "gender_comparison = data[['gender', 'female', 'no_gender']].head()\n",
    "gender_comparison"
   ],
   "id": "f95f1ca062ddc641",
   "outputs": [
    {
     "data": {
      "text/plain": [
       "  gender  female  no_gender\n",
       "0      M     0.0        0.0\n",
       "1      F     1.0        0.0\n",
       "2      M     0.0        0.0\n",
       "3      F     1.0        0.0\n",
       "4    NaN     0.0        1.0"
      ],
      "text/html": [
       "<div>\n",
       "<style scoped>\n",
       "    .dataframe tbody tr th:only-of-type {\n",
       "        vertical-align: middle;\n",
       "    }\n",
       "\n",
       "    .dataframe tbody tr th {\n",
       "        vertical-align: top;\n",
       "    }\n",
       "\n",
       "    .dataframe thead th {\n",
       "        text-align: right;\n",
       "    }\n",
       "</style>\n",
       "<table border=\"1\" class=\"dataframe\">\n",
       "  <thead>\n",
       "    <tr style=\"text-align: right;\">\n",
       "      <th></th>\n",
       "      <th>gender</th>\n",
       "      <th>female</th>\n",
       "      <th>no_gender</th>\n",
       "    </tr>\n",
       "  </thead>\n",
       "  <tbody>\n",
       "    <tr>\n",
       "      <th>0</th>\n",
       "      <td>M</td>\n",
       "      <td>0.0</td>\n",
       "      <td>0.0</td>\n",
       "    </tr>\n",
       "    <tr>\n",
       "      <th>1</th>\n",
       "      <td>F</td>\n",
       "      <td>1.0</td>\n",
       "      <td>0.0</td>\n",
       "    </tr>\n",
       "    <tr>\n",
       "      <th>2</th>\n",
       "      <td>M</td>\n",
       "      <td>0.0</td>\n",
       "      <td>0.0</td>\n",
       "    </tr>\n",
       "    <tr>\n",
       "      <th>3</th>\n",
       "      <td>F</td>\n",
       "      <td>1.0</td>\n",
       "      <td>0.0</td>\n",
       "    </tr>\n",
       "    <tr>\n",
       "      <th>4</th>\n",
       "      <td>NaN</td>\n",
       "      <td>0.0</td>\n",
       "      <td>1.0</td>\n",
       "    </tr>\n",
       "  </tbody>\n",
       "</table>\n",
       "</div>"
      ]
     },
     "execution_count": 9,
     "metadata": {},
     "output_type": "execute_result"
    }
   ],
   "execution_count": 9
  },
  {
   "metadata": {
    "ExecuteTime": {
     "end_time": "2024-10-21T16:14:49.487032Z",
     "start_time": "2024-10-21T16:14:49.482594Z"
    }
   },
   "cell_type": "code",
   "source": [
    "# Шаг 2.11 Средний возраст школьников\n",
    "mean_age = data['age'].mean()\n",
    "mean_age"
   ],
   "id": "5f09c80ec75ac0b4",
   "outputs": [
    {
     "data": {
      "text/plain": [
       "17.252428933284307"
      ]
     },
     "execution_count": 11,
     "metadata": {},
     "output_type": "execute_result"
    }
   ],
   "execution_count": 11
  },
  {
   "metadata": {
    "ExecuteTime": {
     "end_time": "2024-10-21T16:15:24.480907Z",
     "start_time": "2024-10-21T16:15:24.471324Z"
    }
   },
   "cell_type": "code",
   "source": [
    "# Шаг 2.12 Вычисляем средний возраст для каждого года выпуска (2006, 2007, 2008, 2009)\n",
    "mean_age_by_gradyear = data[data['gradyear'].isin([2006, 2007, 2008, 2009])].groupby('gradyear')['age'].mean()\n",
    "mean_age_by_gradyear"
   ],
   "id": "993271043798ba40",
   "outputs": [
    {
     "data": {
      "text/plain": [
       "gradyear\n",
       "2006    18.655858\n",
       "2007    17.706172\n",
       "2008    16.767701\n",
       "2009    15.819573\n",
       "Name: age, dtype: float64"
      ]
     },
     "execution_count": 12,
     "metadata": {},
     "output_type": "execute_result"
    }
   ],
   "execution_count": 12
  },
  {
   "metadata": {
    "ExecuteTime": {
     "end_time": "2024-10-21T16:17:35.032759Z",
     "start_time": "2024-10-21T16:17:35.026124Z"
    }
   },
   "cell_type": "code",
   "source": [
    "# Шаг 2.13 Заменяем недостающие данные возраста на среднее значение возраста для данного года выпуска\n",
    "for year in [2006, 2007, 2008, 2009]:\n",
    "    avg_age_for_year = data.loc[data['gradyear'] == year, 'age'].mean()\n",
    "    data.loc[(data['gradyear'] == year) & (data['age'].isna()), 'age'] = avg_age_for_year\n",
    "\n",
    "# Шаг 2.14 Проверяем, остались ли пустые значения в переменной age\n",
    "missing_age_count = data['age'].isna().sum()\n",
    "missing_age_count"
   ],
   "id": "d384b2b7f5c4fb1b",
   "outputs": [
    {
     "data": {
      "text/plain": [
       "0"
      ]
     },
     "execution_count": 14,
     "metadata": {},
     "output_type": "execute_result"
    }
   ],
   "execution_count": 14
  },
  {
   "metadata": {},
   "cell_type": "markdown",
   "source": [
    "# Этап 3. Обучение модели на данных\n",
    "Начните кластерный анализ с рассмотрения 36 признаков, показывающих, сколько раз\n",
    "различные интересы появлялись в профилях социальной сети подростков.\n",
    "1. Для удобства постройте фрейм данных, содержащий только эти признаки.\n",
    "2. Выполните стандартизацию по z-оценке.\n",
    "3. Сравните сводную статистику столбца basketball в старых и новых данных об интересах.\n",
    "4. Выполните кластеризацию методом k-средних, с пятью кластерами."
   ],
   "id": "6986ef41694b4994"
  },
  {
   "metadata": {
    "ExecuteTime": {
     "end_time": "2024-10-21T16:24:06.216870Z",
     "start_time": "2024-10-21T16:24:06.037781Z"
    }
   },
   "cell_type": "code",
   "source": [
    "from sklearn.preprocessing import StandardScaler\n",
    "from sklearn.cluster import KMeans\n",
    "\n",
    "\n",
    "# # Шаг 3.1\n",
    "interest_columns = [\n",
    "    'basketball', 'football', 'soccer', 'softball', 'volleyball', 'swimming',\n",
    "    'cheerleading', 'baseball', 'tennis', 'sports', 'cute', 'sex', 'sexy',\n",
    "    'hot', 'kissed', 'dance', 'band', 'marching', 'music', 'rock', 'god',\n",
    "    'church', 'jesus', 'bible', 'hair', 'dress', 'blonde', 'mall', 'shopping',\n",
    "    'clothes', 'hollister', 'abercrombie', 'die', 'death', 'drunk', 'drugs'\n",
    "]\n",
    "\n",
    "interest_data = data[interest_columns]\n",
    "\n",
    "# Шаг 3.2 Выполняем стандартизацию по z-оценке\n",
    "# Вычисляет среднее значение признака и вычитает его из всех значений признака, делит на стандартное отклонение\n",
    "scaler = StandardScaler()\n",
    "interest_data_scaled = scaler.fit_transform(interest_data)\n",
    "\n",
    "interest_data_scaled_df = pd.DataFrame(interest_data_scaled, columns=interest_columns)\n",
    "\n",
    "# Шаг 3.3 Сравниваем сводную статистику столбца basketball в старых и новых данных\n",
    "basketball_stats_before = interest_data['basketball'].describe()\n",
    "basketball_stats_after = interest_data_scaled_df['basketball'].describe()\n",
    "\n",
    "# Шаг 3.4 Выполняем кластеризацию методом k-средних с 5 кластерами\n",
    "kmeans = KMeans(n_clusters=5, random_state=42, n_init='auto')\n",
    "kmeans.fit(interest_data_scaled_df)\n",
    "cluster_labels = kmeans.labels_\n",
    "\n",
    "# Выводим результаты\n",
    "print(f'Статистика по столбцу basketball до:\\n{basketball_stats_before}')\n",
    "print(f'\\nСтатистика по столбцу basketball после:\\n{basketball_stats_after}')\n",
    "print(f'\\nМетки кластеров для первых 10 наблюдений:\\n{cluster_labels[:10]}')\n",
    "\n"
   ],
   "id": "e31e4af9be038379",
   "outputs": [
    {
     "name": "stdout",
     "output_type": "stream",
     "text": [
      "Статистика по столбцу basketball до:\n",
      "count    30000.000000\n",
      "mean         0.267333\n",
      "std          0.804708\n",
      "min          0.000000\n",
      "25%          0.000000\n",
      "50%          0.000000\n",
      "75%          0.000000\n",
      "max         24.000000\n",
      "Name: basketball, dtype: float64\n",
      "\n",
      "Статистика по столбцу basketball после:\n",
      "count    3.000000e+04\n",
      "mean     5.494864e-17\n",
      "std      1.000017e+00\n",
      "min     -3.322173e-01\n",
      "25%     -3.322173e-01\n",
      "50%     -3.322173e-01\n",
      "75%     -3.322173e-01\n",
      "max      2.949277e+01\n",
      "Name: basketball, dtype: float64\n",
      "\n",
      "Метки кластеров для первых 10 наблюдений:\n",
      "[0 1 0 0 1 0 4 0 0 0]\n"
     ]
    }
   ],
   "execution_count": 20
  },
  {
   "metadata": {},
   "cell_type": "markdown",
   "source": [
    "Статистика по столбцу basketball до стандартизации:\n",
    "Среднее значение: 0.267 — в среднем, подростки редко упоминают баскетбол в своих профилях.\n",
    "Минимум/медиана/максимум: Большинство подростков вообще не упоминают баскетбол (медиана — 0, 75% не упоминают баскетбол).\n",
    "Максимум: 24 упоминания в одном профиле — некоторые пользователи явно сильно заинтересованы в этом виде спорта.\n",
    "Стандартное отклонение: 0.804 — большая вариативность в данных, некоторые подростки могут упоминать баскетбол значительно чаще.\n",
    "\n",
    "Статистика по столбцу basketball после стандартизации:\n",
    "Среднее значение: 5.49e-17 — очень близко к нулю, что соответствует нормализации данных.\n",
    "Минимум/медиана/максимум: Если значение меньше 0, это говорит о том, что баскетбол упоминается реже среднего, а если больше 0 — чаще.\n",
    "Максимум: 29.49 — баскетбол может быть упомянут гораздо чаще в некоторых профилях по сравнению с остальными.\n",
    "Стандартное отклонение: 1 — это стандарт для z-оценки (данные масштабируются так, чтобы отклонения от среднего были измеримы в единицах стандартного отклонения)."
   ],
   "id": "3550c34e6155db8e"
  },
  {
   "metadata": {},
   "cell_type": "markdown",
   "source": [
    "# Этап 4. Повышение эффективности модели\n",
    "1. Для исследования кластеризации рассмотрите координаты центроидов кластеров\n",
    "2. Выясните, к какому кластеру относятся первые десять школьников в таблице данных"
   ],
   "id": "ae563f12b6988f5d"
  },
  {
   "metadata": {
    "ExecuteTime": {
     "end_time": "2024-10-21T16:38:01.114213Z",
     "start_time": "2024-10-21T16:38:01.107190Z"
    }
   },
   "cell_type": "code",
   "source": [
    "# Шаг 4.1 Координаты центроидов кластеров\n",
    "centroids = kmeans.cluster_centers_\n",
    "\n",
    "# Преобразуем центроиды в DataFrame\n",
    "centroids_df = pd.DataFrame(centroids, columns=interest_columns)\n",
    "\n",
    "# Шаг 4.2 Выясняем, к какому кластеру относятся первые десять школьников\n",
    "first_ten_students_clusters = cluster_labels[:10]\n",
    "\n",
    "print(f'Центроиды кластеров:\\n{centroids_df}')\n",
    "print(f'\\nКластеры первых десяти школьников:\\n{first_ten_students_clusters}')\n"
   ],
   "id": "281a08a2396486f0",
   "outputs": [
    {
     "name": "stdout",
     "output_type": "stream",
     "text": [
      "Центроиды кластеров:\n",
      "   basketball  football    soccer  softball  volleyball  swimming  \\\n",
      "0   -0.090156 -0.086484 -0.041116 -0.047891   -0.051075 -0.053623   \n",
      "1    0.559983  0.486570  0.255760  0.293548    0.291495  0.274975   \n",
      "2   -0.332217  2.477795 -0.242874 -0.217928   -0.223670  1.674334   \n",
      "3   -0.099724  0.062463 -0.100274 -0.016484   -0.065851  0.037861   \n",
      "4    0.158038  0.256140  0.106968  0.076224    0.203917  0.271432   \n",
      "\n",
      "   cheerleading  baseball    tennis    sports  ...      blonde      mall  \\\n",
      "0     -0.059512 -0.052457 -0.029797 -0.085470  ...   -0.026074 -0.124448   \n",
      "1      0.297316  0.347514  0.151439  0.535451  ...    0.108155  0.659365   \n",
      "2     -0.207327 -0.201131 -0.168939 -0.297123  ...  168.307291 -0.369915   \n",
      "3     -0.113975 -0.115448  0.039235 -0.110850  ...   -0.010873 -0.084357   \n",
      "4      0.440060  0.038989  0.145669  0.141436  ...    0.074666  0.659892   \n",
      "\n",
      "   shopping   clothes  hollister  abercrombie       die      death      drunk  \\\n",
      "0 -0.123985 -0.158234  -0.143598    -0.141985 -0.104885  -0.082370  -0.105910   \n",
      "1  0.603861  0.874908  -0.024167    -0.008947  0.652476   0.493829   0.667872   \n",
      "2 -0.487314  1.801613  -0.201476    -0.183032  9.312807  13.475099  14.812744   \n",
      "3 -0.032483 -0.037461  -0.168056    -0.147497  0.012735   0.034126  -0.062770   \n",
      "4  0.846152  0.636754   4.105098     3.983779  0.083528   0.120882   0.090723   \n",
      "\n",
      "      drugs  \n",
      "0 -0.123156  \n",
      "1  0.768631  \n",
      "2 -0.174908  \n",
      "3 -0.055114  \n",
      "4  0.146319  \n",
      "\n",
      "[5 rows x 36 columns]\n",
      "\n",
      "Кластеры первых десяти школьников:\n",
      "[0 1 0 0 1 0 4 0 0 0]\n"
     ]
    }
   ],
   "execution_count": 24
  },
  {
   "metadata": {},
   "cell_type": "markdown",
   "source": "# Этап 5.\n",
   "id": "16cb46240bf84e37"
  },
  {
   "metadata": {
    "ExecuteTime": {
     "end_time": "2024-10-21T16:39:31.997020Z",
     "start_time": "2024-10-21T16:39:31.835953Z"
    }
   },
   "cell_type": "code",
   "source": [
    "full_data_columns = data.columns.difference(['gradyear', 'gender', 'age'])\n",
    "full_data = data[full_data_columns]\n",
    "\n",
    "\n",
    "scaler_full = StandardScaler()\n",
    "full_data_scaled = scaler_full.fit_transform(full_data)\n",
    "\n",
    "\n",
    "kmeans_full = KMeans(n_clusters=5, random_state=42, n_init='auto')\n",
    "kmeans_full.fit(full_data_scaled)\n",
    "\n",
    "centroids_full = kmeans_full.cluster_centers_\n",
    "centroids_full_df = pd.DataFrame(centroids_full, columns=full_data_columns)\n",
    "\n",
    "first_ten_students_clusters_full = kmeans_full.labels_[:10]\n",
    "\n",
    "# Вывод результатов\n",
    "centroids_full_df, first_ten_students_clusters_full"
   ],
   "id": "77a2b45448a66f6f",
   "outputs": [
    {
     "data": {
      "text/plain": [
       "(   abercrombie      band  baseball  basketball     bible      blonde  \\\n",
       " 0    -0.117113 -0.058046 -0.040283   -0.084441 -0.038343   -0.026686   \n",
       " 1     0.022059 -0.027054  0.059547    0.297421  0.039093    0.032814   \n",
       " 2    -0.183032  0.626046 -0.201131   -0.332217 -0.104247  168.307291   \n",
       " 3     0.680166  0.386003  0.223100    0.451005  0.233021    0.106433   \n",
       " 4     0.360657 -0.049413  0.128310    0.176163  0.027635    0.079240   \n",
       " \n",
       "    cheerleading    church   clothes      cute  ...      rock        sex  \\\n",
       " 0     -0.146851 -0.082626 -0.159010 -0.125823  ... -0.104245  -0.099110   \n",
       " 1     -0.095854  0.113307 -0.026448  0.042953  ...  0.121235  -0.036850   \n",
       " 2     -0.207327 -0.297557  1.801613  0.843856  ...  1.050397  19.395543   \n",
       " 3     -0.025711  0.480842  0.996792  0.745555  ...  0.624647   0.632108   \n",
       " 4      5.393580  0.145263  0.145630  0.284474  ...  0.105876   0.027287   \n",
       " \n",
       "        sexy  shopping    soccer  softball    sports  swimming    tennis  \\\n",
       " 0 -0.068424 -0.137648 -0.145510 -0.043101 -0.081068 -0.056364 -0.025646   \n",
       " 1 -0.004796  0.236064  5.002015  0.039836  0.418973  0.147523  0.112196   \n",
       " 2  1.625897 -0.487314 -0.242874 -0.217928 -0.297123  1.674334 -0.168939   \n",
       " 3  0.424336  0.739513 -0.038344  0.253522  0.434901  0.315202  0.148277   \n",
       " 4  0.079588  0.528447 -0.015220  0.081643  0.016474  0.091721 -0.031551   \n",
       " \n",
       "    volleyball  \n",
       " 0   -0.050828  \n",
       " 1    0.109699  \n",
       " 2   -0.223670  \n",
       " 3    0.290867  \n",
       " 4    0.073770  \n",
       " \n",
       " [5 rows x 39 columns],\n",
       " array([0, 3, 0, 0, 3, 0, 0, 0, 0, 0], dtype=int32))"
      ]
     },
     "execution_count": 26,
     "metadata": {},
     "output_type": "execute_result"
    }
   ],
   "execution_count": 26
  },
  {
   "metadata": {},
   "cell_type": "markdown",
   "source": [
    "# Вопросы для подготовки к лабораторной работе\n",
    "\n",
    "### 1. В каких библиотеках Python реализован метод k-средних?\n",
    "\n",
    "Метод k-средних реализован в следующих библиотеках Python:\n",
    "\n",
    "- **Scikit-learn** (`sklearn.cluster.KMeans`) — одна из самых популярных библиотек для машинного обучения с поддержкой кластеризации.\n",
    "- **MLlib (Spark)** — библиотека для обработки больших данных в Spark.\n",
    "\n",
    "---\n",
    "\n",
    "### 2. Каким образом производится обучение модели? Какие параметры необходимо указать для запуска обучения? Как проверить эффективность модели?\n",
    "\n",
    "#### Обучение модели:\n",
    "Метод k-средних начинается с задания количества кластеров `k` и случайной инициализации центроидов. Алгоритм затем итеративно перемещает центроиды, пока не достигнет сходимости, то есть до тех пор, пока точки внутри кластеров не перестанут изменять свои принадлежности.\n",
    "\n",
    "#### Параметры для запуска модели:\n",
    "- `n_clusters` — количество кластеров.\n",
    "- `init` — метод инициализации центроидов (например, `'k-means++'`).\n",
    "- `max_iter` — максимальное количество итераций для алгоритма.\n",
    "- `random_state` — фиксирует случайность для воспроизводимости.\n",
    "- `n_init` — количество запусков алгоритма с различной инициализацией центроидов.\n",
    "\n",
    "---\n",
    "\n",
    "### 3. Что необходимо сделать, чтобы повысить эффективность модели?\n",
    "Корректный выбор количества кластеров (k):\n",
    "Используйте методы, такие как метод локтя или силуэтный коэффициент, для определения оптимального числа кластеров.\n",
    "\n",
    "Предварительная обработка данных:\n",
    "Нормализация или стандартизация данных поможет избежать влияния признаков с разными масштабами на результаты кластеризации.\n",
    "\n",
    "Инициализация центроидов:\n",
    "Использование метода k-means++ позволяет выбрать более осмысленные стартовые центроиды, что может повысить точность и скорость сходимости модели.\n",
    "\n",
    "Увеличение числа запусков (n_init):\n",
    "Увеличьте количество запусков алгоритма с различной инициализацией центроидов для улучшения результатов и нахождения более оптимального решения.\n"
   ],
   "id": "9eb7fb1cedd0f25b"
  },
  {
   "metadata": {},
   "cell_type": "code",
   "outputs": [],
   "execution_count": null,
   "source": "",
   "id": "450c9f17a67d1fff"
  }
 ],
 "metadata": {
  "kernelspec": {
   "display_name": "Python 3",
   "language": "python",
   "name": "python3"
  },
  "language_info": {
   "codemirror_mode": {
    "name": "ipython",
    "version": 2
   },
   "file_extension": ".py",
   "mimetype": "text/x-python",
   "name": "python",
   "nbconvert_exporter": "python",
   "pygments_lexer": "ipython2",
   "version": "2.7.6"
  }
 },
 "nbformat": 4,
 "nbformat_minor": 5
}
