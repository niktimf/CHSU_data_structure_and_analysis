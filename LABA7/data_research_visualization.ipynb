{
 "nbformat": 4,
 "nbformat_minor": 0,
 "metadata": {
  "colab": {
   "provenance": [],
   "authorship_tag": "ABX9TyP9fDV/xNLcjbubgI1icUEW"
  },
  "kernelspec": {
   "name": "python3",
   "display_name": "Python 3 (ipykernel)",
   "language": "python"
  },
  "language_info": {
   "name": "python"
  }
 },
 "cells": [
  {
   "cell_type": "markdown",
   "source": [
    "1.\tЗагрузите данные из файла usedcars.csv в dataframe usedcars."
   ],
   "metadata": {
    "id": "GhHmjQIzYnv5"
   }
  },
  {
   "cell_type": "code",
   "source": [
    "import pandas as pd\n",
    "\n",
    "df = pd.read_csv('usedcars.csv')"
   ],
   "metadata": {
    "id": "97Ze4B8zYlkh",
    "ExecuteTime": {
     "end_time": "2024-10-05T12:56:05.739784Z",
     "start_time": "2024-10-05T12:56:05.508407Z"
    }
   },
   "outputs": [],
   "execution_count": 1
  },
  {
   "cell_type": "markdown",
   "source": [
    "2.\tОтобразите структуру usedcars."
   ],
   "metadata": {
    "id": "kG4sesisYqrj"
   }
  },
  {
   "cell_type": "code",
   "source": "df.head()",
   "metadata": {
    "id": "7WF5EG1UYvWo",
    "ExecuteTime": {
     "end_time": "2024-10-05T12:56:12.171760Z",
     "start_time": "2024-10-05T12:56:12.161363Z"
    }
   },
   "outputs": [
    {
     "data": {
      "text/plain": [
       "   year model  price  mileage   color transmission\n",
       "0  2011   SEL  21992     7413  Yellow         AUTO\n",
       "1  2011   SEL  20995    10926    Gray         AUTO\n",
       "2  2011   SEL  19995     7351  Silver         AUTO\n",
       "3  2011   SEL  17809    11613    Gray         AUTO\n",
       "4  2012    SE  17500     8367   White         AUTO"
      ],
      "text/html": [
       "<div>\n",
       "<style scoped>\n",
       "    .dataframe tbody tr th:only-of-type {\n",
       "        vertical-align: middle;\n",
       "    }\n",
       "\n",
       "    .dataframe tbody tr th {\n",
       "        vertical-align: top;\n",
       "    }\n",
       "\n",
       "    .dataframe thead th {\n",
       "        text-align: right;\n",
       "    }\n",
       "</style>\n",
       "<table border=\"1\" class=\"dataframe\">\n",
       "  <thead>\n",
       "    <tr style=\"text-align: right;\">\n",
       "      <th></th>\n",
       "      <th>year</th>\n",
       "      <th>model</th>\n",
       "      <th>price</th>\n",
       "      <th>mileage</th>\n",
       "      <th>color</th>\n",
       "      <th>transmission</th>\n",
       "    </tr>\n",
       "  </thead>\n",
       "  <tbody>\n",
       "    <tr>\n",
       "      <th>0</th>\n",
       "      <td>2011</td>\n",
       "      <td>SEL</td>\n",
       "      <td>21992</td>\n",
       "      <td>7413</td>\n",
       "      <td>Yellow</td>\n",
       "      <td>AUTO</td>\n",
       "    </tr>\n",
       "    <tr>\n",
       "      <th>1</th>\n",
       "      <td>2011</td>\n",
       "      <td>SEL</td>\n",
       "      <td>20995</td>\n",
       "      <td>10926</td>\n",
       "      <td>Gray</td>\n",
       "      <td>AUTO</td>\n",
       "    </tr>\n",
       "    <tr>\n",
       "      <th>2</th>\n",
       "      <td>2011</td>\n",
       "      <td>SEL</td>\n",
       "      <td>19995</td>\n",
       "      <td>7351</td>\n",
       "      <td>Silver</td>\n",
       "      <td>AUTO</td>\n",
       "    </tr>\n",
       "    <tr>\n",
       "      <th>3</th>\n",
       "      <td>2011</td>\n",
       "      <td>SEL</td>\n",
       "      <td>17809</td>\n",
       "      <td>11613</td>\n",
       "      <td>Gray</td>\n",
       "      <td>AUTO</td>\n",
       "    </tr>\n",
       "    <tr>\n",
       "      <th>4</th>\n",
       "      <td>2012</td>\n",
       "      <td>SE</td>\n",
       "      <td>17500</td>\n",
       "      <td>8367</td>\n",
       "      <td>White</td>\n",
       "      <td>AUTO</td>\n",
       "    </tr>\n",
       "  </tbody>\n",
       "</table>\n",
       "</div>"
      ]
     },
     "execution_count": 2,
     "metadata": {},
     "output_type": "execute_result"
    }
   ],
   "execution_count": 2
  },
  {
   "cell_type": "markdown",
   "source": [
    "3.\tЗапросите статистику по всем числовым переменным usedcars."
   ],
   "metadata": {
    "id": "imPGnMHxYv-x"
   }
  },
  {
   "cell_type": "code",
   "source": "df.describe()",
   "metadata": {
    "id": "rLr0RzwuY1d4",
    "ExecuteTime": {
     "end_time": "2024-10-05T12:56:29.560867Z",
     "start_time": "2024-10-05T12:56:29.552536Z"
    }
   },
   "outputs": [
    {
     "data": {
      "text/plain": [
       "              year         price        mileage\n",
       "count   150.000000    150.000000     150.000000\n",
       "mean   2008.726667  12961.933333   44260.646667\n",
       "std       2.200966   3122.481735   26982.104322\n",
       "min    2000.000000   3800.000000    4867.000000\n",
       "25%    2008.000000  10995.000000   27200.250000\n",
       "50%    2009.000000  13591.500000   36385.000000\n",
       "75%    2010.000000  14904.500000   55124.500000\n",
       "max    2012.000000  21992.000000  151479.000000"
      ],
      "text/html": [
       "<div>\n",
       "<style scoped>\n",
       "    .dataframe tbody tr th:only-of-type {\n",
       "        vertical-align: middle;\n",
       "    }\n",
       "\n",
       "    .dataframe tbody tr th {\n",
       "        vertical-align: top;\n",
       "    }\n",
       "\n",
       "    .dataframe thead th {\n",
       "        text-align: right;\n",
       "    }\n",
       "</style>\n",
       "<table border=\"1\" class=\"dataframe\">\n",
       "  <thead>\n",
       "    <tr style=\"text-align: right;\">\n",
       "      <th></th>\n",
       "      <th>year</th>\n",
       "      <th>price</th>\n",
       "      <th>mileage</th>\n",
       "    </tr>\n",
       "  </thead>\n",
       "  <tbody>\n",
       "    <tr>\n",
       "      <th>count</th>\n",
       "      <td>150.000000</td>\n",
       "      <td>150.000000</td>\n",
       "      <td>150.000000</td>\n",
       "    </tr>\n",
       "    <tr>\n",
       "      <th>mean</th>\n",
       "      <td>2008.726667</td>\n",
       "      <td>12961.933333</td>\n",
       "      <td>44260.646667</td>\n",
       "    </tr>\n",
       "    <tr>\n",
       "      <th>std</th>\n",
       "      <td>2.200966</td>\n",
       "      <td>3122.481735</td>\n",
       "      <td>26982.104322</td>\n",
       "    </tr>\n",
       "    <tr>\n",
       "      <th>min</th>\n",
       "      <td>2000.000000</td>\n",
       "      <td>3800.000000</td>\n",
       "      <td>4867.000000</td>\n",
       "    </tr>\n",
       "    <tr>\n",
       "      <th>25%</th>\n",
       "      <td>2008.000000</td>\n",
       "      <td>10995.000000</td>\n",
       "      <td>27200.250000</td>\n",
       "    </tr>\n",
       "    <tr>\n",
       "      <th>50%</th>\n",
       "      <td>2009.000000</td>\n",
       "      <td>13591.500000</td>\n",
       "      <td>36385.000000</td>\n",
       "    </tr>\n",
       "    <tr>\n",
       "      <th>75%</th>\n",
       "      <td>2010.000000</td>\n",
       "      <td>14904.500000</td>\n",
       "      <td>55124.500000</td>\n",
       "    </tr>\n",
       "    <tr>\n",
       "      <th>max</th>\n",
       "      <td>2012.000000</td>\n",
       "      <td>21992.000000</td>\n",
       "      <td>151479.000000</td>\n",
       "    </tr>\n",
       "  </tbody>\n",
       "</table>\n",
       "</div>"
      ]
     },
     "execution_count": 3,
     "metadata": {},
     "output_type": "execute_result"
    }
   ],
   "execution_count": 3
  },
  {
   "cell_type": "markdown",
   "source": [
    "4.\tПосчитайте средние значения для всех числовых переменных usedcars."
   ],
   "metadata": {
    "id": "MSCo0ljBY12x"
   }
  },
  {
   "cell_type": "code",
   "source": [
    "mean_for_numeric = df.mean(numeric_only=True)\n",
    "mean_for_numeric"
   ],
   "metadata": {
    "id": "gxeaud7sY6s4",
    "ExecuteTime": {
     "end_time": "2024-10-05T12:58:32.963663Z",
     "start_time": "2024-10-05T12:58:32.959709Z"
    }
   },
   "outputs": [
    {
     "data": {
      "text/plain": [
       "year        2008.726667\n",
       "price      12961.933333\n",
       "mileage    44260.646667\n",
       "dtype: float64"
      ]
     },
     "execution_count": 6,
     "metadata": {},
     "output_type": "execute_result"
    }
   ],
   "execution_count": 6
  },
  {
   "cell_type": "markdown",
   "source": [
    "5.\tПосчитайте медианы для всех числовых переменных usedcars."
   ],
   "metadata": {
    "id": "ZT7GZ6h1Y7GA"
   }
  },
  {
   "cell_type": "code",
   "source": [
    "median_for_numeric = df.median(numeric_only=True)\n",
    "median_for_numeric"
   ],
   "metadata": {
    "id": "OjiBCs_3Y_Vo",
    "ExecuteTime": {
     "end_time": "2024-10-05T12:58:45.330248Z",
     "start_time": "2024-10-05T12:58:45.326661Z"
    }
   },
   "outputs": [
    {
     "data": {
      "text/plain": [
       "year        2009.0\n",
       "price      13591.5\n",
       "mileage    36385.0\n",
       "dtype: float64"
      ]
     },
     "execution_count": 7,
     "metadata": {},
     "output_type": "execute_result"
    }
   ],
   "execution_count": 7
  },
  {
   "cell_type": "markdown",
   "source": [
    "6.\tИзучите пятичисловую сводку для переменных price и mileage."
   ],
   "metadata": {
    "id": "qWsP09FRY_wY"
   }
  },
  {
   "cell_type": "code",
   "source": [
    "summary = df[['price', 'mileage']].describe()\n",
    "summary"
   ],
   "metadata": {
    "id": "MpvOoF61ZEFP",
    "ExecuteTime": {
     "end_time": "2024-10-05T12:59:23.744800Z",
     "start_time": "2024-10-05T12:59:23.735894Z"
    }
   },
   "outputs": [
    {
     "data": {
      "text/plain": [
       "              price        mileage\n",
       "count    150.000000     150.000000\n",
       "mean   12961.933333   44260.646667\n",
       "std     3122.481735   26982.104322\n",
       "min     3800.000000    4867.000000\n",
       "25%    10995.000000   27200.250000\n",
       "50%    13591.500000   36385.000000\n",
       "75%    14904.500000   55124.500000\n",
       "max    21992.000000  151479.000000"
      ],
      "text/html": [
       "<div>\n",
       "<style scoped>\n",
       "    .dataframe tbody tr th:only-of-type {\n",
       "        vertical-align: middle;\n",
       "    }\n",
       "\n",
       "    .dataframe tbody tr th {\n",
       "        vertical-align: top;\n",
       "    }\n",
       "\n",
       "    .dataframe thead th {\n",
       "        text-align: right;\n",
       "    }\n",
       "</style>\n",
       "<table border=\"1\" class=\"dataframe\">\n",
       "  <thead>\n",
       "    <tr style=\"text-align: right;\">\n",
       "      <th></th>\n",
       "      <th>price</th>\n",
       "      <th>mileage</th>\n",
       "    </tr>\n",
       "  </thead>\n",
       "  <tbody>\n",
       "    <tr>\n",
       "      <th>count</th>\n",
       "      <td>150.000000</td>\n",
       "      <td>150.000000</td>\n",
       "    </tr>\n",
       "    <tr>\n",
       "      <th>mean</th>\n",
       "      <td>12961.933333</td>\n",
       "      <td>44260.646667</td>\n",
       "    </tr>\n",
       "    <tr>\n",
       "      <th>std</th>\n",
       "      <td>3122.481735</td>\n",
       "      <td>26982.104322</td>\n",
       "    </tr>\n",
       "    <tr>\n",
       "      <th>min</th>\n",
       "      <td>3800.000000</td>\n",
       "      <td>4867.000000</td>\n",
       "    </tr>\n",
       "    <tr>\n",
       "      <th>25%</th>\n",
       "      <td>10995.000000</td>\n",
       "      <td>27200.250000</td>\n",
       "    </tr>\n",
       "    <tr>\n",
       "      <th>50%</th>\n",
       "      <td>13591.500000</td>\n",
       "      <td>36385.000000</td>\n",
       "    </tr>\n",
       "    <tr>\n",
       "      <th>75%</th>\n",
       "      <td>14904.500000</td>\n",
       "      <td>55124.500000</td>\n",
       "    </tr>\n",
       "    <tr>\n",
       "      <th>max</th>\n",
       "      <td>21992.000000</td>\n",
       "      <td>151479.000000</td>\n",
       "    </tr>\n",
       "  </tbody>\n",
       "</table>\n",
       "</div>"
      ]
     },
     "execution_count": 9,
     "metadata": {},
     "output_type": "execute_result"
    }
   ],
   "execution_count": 9
  },
  {
   "cell_type": "markdown",
   "source": [
    "7.\tПостройте диаграммы размаха для переменных price и mileage."
   ],
   "metadata": {
    "id": "lh9bMR5EZEdg"
   }
  },
  {
   "cell_type": "code",
   "source": [
    "import matplotlib.pyplot as plt\n",
    "\n",
    "plt.figure(figsize=(10, 5))\n",
    "\n",
    "# Диаграмма размаха для 'price'\n",
    "plt.subplot(1, 2, 1)\n",
    "plt.boxplot(df['price'])\n",
    "plt.title('Boxplot of Price')\n",
    "plt.xlabel('Price')\n",
    "\n",
    "# Диаграмма размаха для 'mileage'\n",
    "plt.subplot(1, 2, 2)\n",
    "plt.boxplot(df['mileage'])\n",
    "plt.title('Boxplot of Mileage')\n",
    "plt.xlabel('Mileage')\n",
    "\n",
    "plt.tight_layout()\n",
    "plt.show()"
   ],
   "metadata": {
    "id": "gdpfi0GDZN_v",
    "ExecuteTime": {
     "end_time": "2024-10-05T13:00:02.173305Z",
     "start_time": "2024-10-05T13:00:01.594835Z"
    }
   },
   "outputs": [
    {
     "data": {
      "text/plain": [
       "<Figure size 1000x500 with 2 Axes>"
      ],
      "image/png": "[encoded data removed]"
     },
     "metadata": {},
     "output_type": "display_data"
    }
   ],
   "execution_count": 10
  },
  {
   "cell_type": "markdown",
   "source": [
    "8.\tПостройте гистограмму для данных о цене и пробеге подержанных автомобилей."
   ],
   "metadata": {
    "id": "DPPzfkEPZOd3"
   }
  },
  {
   "cell_type": "code",
   "source": [
    "plt.figure(figsize=(12, 5))\n",
    "\n",
    "# Гистограмма для 'price'\n",
    "plt.subplot(1, 2, 1)\n",
    "plt.hist(df['price'], edgecolor='black')\n",
    "plt.title('Histogram of Price')\n",
    "plt.xlabel('Price')\n",
    "plt.ylabel('Frequency')\n",
    "\n",
    "# Гистограмма для 'mileage'\n",
    "plt.subplot(1, 2, 2)\n",
    "plt.hist(df['mileage'], edgecolor='black')\n",
    "plt.title('Histogram of Mileage')\n",
    "plt.xlabel('Mileage')\n",
    "plt.ylabel('Frequency')\n",
    "\n",
    "\n",
    "plt.tight_layout()\n",
    "plt.show()"
   ],
   "metadata": {
    "id": "ORMPJEytZShZ",
    "ExecuteTime": {
     "end_time": "2024-10-05T13:12:21.323520Z",
     "start_time": "2024-10-05T13:12:21.051567Z"
    }
   },
   "outputs": [
    {
     "data": {
      "text/plain": [
       "<Figure size 1200x500 with 2 Axes>"
      ],
      "image/png": "[encoded data removed]"
     },
     "metadata": {},
     "output_type": "display_data"
    }
   ],
   "execution_count": 22
  },
  {
   "cell_type": "markdown",
   "source": [
    "9.\tВычислить дисперсию и стандартное отклонение по векторам price и mileage."
   ],
   "metadata": {
    "id": "a7LePnEVZS2w"
   }
  },
  {
   "cell_type": "code",
   "source": [
    "price_variance = df['price'].var()\n",
    "mileage_variance = df['mileage'].var()\n",
    "\n",
    "price_std_dev = df['price'].std()\n",
    "mileage_std_dev = df['mileage'].std()\n",
    "\n",
    "print(f\"Дисперсия цены: {price_variance}\")\n",
    "print(f\"Дисперсия пробега: {mileage_variance}\")\n",
    "print(f\"Стандартное отклонение цены: {price_std_dev}\")\n",
    "print(f\"Стандартное отклонение пробега: {mileage_std_dev}\")"
   ],
   "metadata": {
    "id": "Xy22sTcTZXCA",
    "ExecuteTime": {
     "end_time": "2024-10-05T13:01:53.985116Z",
     "start_time": "2024-10-05T13:01:53.981435Z"
    }
   },
   "outputs": [
    {
     "name": "stdout",
     "output_type": "stream",
     "text": [
      "Дисперсия цены: 9749892.183445197\n",
      "Дисперсия пробега: 728033953.6394184\n",
      "Стандартное отклонение цены: 3122.4817346856003\n",
      "Стандартное отклонение пробега: 26982.104321928236\n"
     ]
    }
   ],
   "execution_count": 14
  },
  {
   "cell_type": "markdown",
   "source": [
    "10.\tПостройте таблицу частотности для данных о подержанном автомобиле."
   ],
   "metadata": {
    "id": "uTjphqAnZXcY"
   }
  },
  {
   "cell_type": "code",
   "source": [
    "df_frequency = df.value_counts()\n",
    "df_frequency"
   ],
   "metadata": {
    "id": "nGdUn_EBZh-5",
    "ExecuteTime": {
     "end_time": "2024-10-05T13:04:34.392224Z",
     "start_time": "2024-10-05T13:04:34.386018Z"
    }
   },
   "outputs": [
    {
     "data": {
      "text/plain": [
       "year  model  price  mileage  color   transmission\n",
       "2012  SE     17500  8367     White   AUTO            1\n",
       "2000  SE     3800   109259   Red     AUTO            1\n",
       "             5980   96841    Red     AUTO            1\n",
       "             6980   60161    Green   AUTO            1\n",
       "2001  SE     4899   151479   Yellow  AUTO            1\n",
       "                                                    ..\n",
       "2005  SES    7488   59013    Red     AUTO            1\n",
       "             10995  69415    Blue    AUTO            1\n",
       "2006  SE     8800   71331    White   AUTO            1\n",
       "             8999   49656    Silver  AUTO            1\n",
       "             9995   51311    Silver  AUTO            1\n",
       "Name: count, Length: 150, dtype: int64"
      ]
     },
     "execution_count": 17,
     "metadata": {},
     "output_type": "execute_result"
    }
   ],
   "execution_count": 17
  },
  {
   "cell_type": "markdown",
   "source": [
    "11.\tВычислите моду переменных year, model и color."
   ],
   "metadata": {
    "id": "NtTuAU4zZib4"
   }
  },
  {
   "cell_type": "code",
   "source": [
    "year_mode = df['year'].mode()[0]\n",
    "model_mode = df['model'].mode()[0]\n",
    "color_mode = df['color'].mode()[0]\n",
    "\n",
    "print(f\"Мода для 'year': {year_mode}\")\n",
    "print(f\"Мода для 'model': {model_mode}\")\n",
    "print(f\"Мода для 'color': {color_mode}\")"
   ],
   "metadata": {
    "id": "CO87vu60Zl9Q",
    "ExecuteTime": {
     "end_time": "2024-10-05T13:06:40.954550Z",
     "start_time": "2024-10-05T13:06:40.950438Z"
    }
   },
   "outputs": [
    {
     "name": "stdout",
     "output_type": "stream",
     "text": [
      "Мода для 'year': 2010\n",
      "Мода для 'model': SE\n",
      "Мода для 'color': Black\n"
     ]
    }
   ],
   "execution_count": 18
  },
  {
   "cell_type": "markdown",
   "source": [
    "12.\tОтветьте на вопрос о соотношении цены и пробега, построив диаграмму разброса."
   ],
   "metadata": {
    "id": "oel9pM0XZmbX"
   }
  },
  {
   "cell_type": "code",
   "source": [
    "plt.figure(figsize=(8, 6))\n",
    "plt.scatter(df['mileage'], df['price'], alpha=0.5, edgecolor='k')\n",
    "plt.title('Scatter Plot of Price vs Mileage')\n",
    "plt.xlabel('Mileage')\n",
    "plt.ylabel('Price')\n",
    "\n",
    "\n",
    "plt.tight_layout()\n",
    "plt.show()"
   ],
   "metadata": {
    "id": "dzyOXnuqZpvY",
    "ExecuteTime": {
     "end_time": "2024-10-05T13:07:34.001451Z",
     "start_time": "2024-10-05T13:07:33.792948Z"
    }
   },
   "outputs": [
    {
     "data": {
      "text/plain": [
       "<Figure size 800x600 with 1 Axes>"
      ],
      "image/png": "[encoded data removed]"
     },
     "metadata": {},
     "output_type": "display_data"
    }
   ],
   "execution_count": 19
  },
  {
   "cell_type": "markdown",
   "source": [
    "13.\tОтветьте на вопрос о том, существует ли связь между моделью и цветом, построив кросс-таблицу."
   ],
   "metadata": {
    "id": "yO79ZieNZqB3"
   }
  },
  {
   "cell_type": "code",
   "source": [
    "model_color_crosstab = pd.crosstab(df['model'], df['color'])\n",
    "\n",
    "model_color_crosstab"
   ],
   "metadata": {
    "id": "6hXa6cXhZtgI",
    "ExecuteTime": {
     "end_time": "2024-10-05T13:10:09.979915Z",
     "start_time": "2024-10-05T13:10:09.967516Z"
    }
   },
   "outputs": [
    {
     "data": {
      "text/plain": [
       "color  Black  Blue  Gold  Gray  Green  Red  Silver  White  Yellow\n",
       "model                                                            \n",
       "SE        19     9     1     7      4   12      11     14       1\n",
       "SEL        3     3     0     5      1    2       7      1       1\n",
       "SES       13     5     0     4      0   11      14      1       1"
      ],
      "text/html": [
       "<div>\n",
       "<style scoped>\n",
       "    .dataframe tbody tr th:only-of-type {\n",
       "        vertical-align: middle;\n",
       "    }\n",
       "\n",
       "    .dataframe tbody tr th {\n",
       "        vertical-align: top;\n",
       "    }\n",
       "\n",
       "    .dataframe thead th {\n",
       "        text-align: right;\n",
       "    }\n",
       "</style>\n",
       "<table border=\"1\" class=\"dataframe\">\n",
       "  <thead>\n",
       "    <tr style=\"text-align: right;\">\n",
       "      <th>color</th>\n",
       "      <th>Black</th>\n",
       "      <th>Blue</th>\n",
       "      <th>Gold</th>\n",
       "      <th>Gray</th>\n",
       "      <th>Green</th>\n",
       "      <th>Red</th>\n",
       "      <th>Silver</th>\n",
       "      <th>White</th>\n",
       "      <th>Yellow</th>\n",
       "    </tr>\n",
       "    <tr>\n",
       "      <th>model</th>\n",
       "      <th></th>\n",
       "      <th></th>\n",
       "      <th></th>\n",
       "      <th></th>\n",
       "      <th></th>\n",
       "      <th></th>\n",
       "      <th></th>\n",
       "      <th></th>\n",
       "      <th></th>\n",
       "    </tr>\n",
       "  </thead>\n",
       "  <tbody>\n",
       "    <tr>\n",
       "      <th>SE</th>\n",
       "      <td>19</td>\n",
       "      <td>9</td>\n",
       "      <td>1</td>\n",
       "      <td>7</td>\n",
       "      <td>4</td>\n",
       "      <td>12</td>\n",
       "      <td>11</td>\n",
       "      <td>14</td>\n",
       "      <td>1</td>\n",
       "    </tr>\n",
       "    <tr>\n",
       "      <th>SEL</th>\n",
       "      <td>3</td>\n",
       "      <td>3</td>\n",
       "      <td>0</td>\n",
       "      <td>5</td>\n",
       "      <td>1</td>\n",
       "      <td>2</td>\n",
       "      <td>7</td>\n",
       "      <td>1</td>\n",
       "      <td>1</td>\n",
       "    </tr>\n",
       "    <tr>\n",
       "      <th>SES</th>\n",
       "      <td>13</td>\n",
       "      <td>5</td>\n",
       "      <td>0</td>\n",
       "      <td>4</td>\n",
       "      <td>0</td>\n",
       "      <td>11</td>\n",
       "      <td>14</td>\n",
       "      <td>1</td>\n",
       "      <td>1</td>\n",
       "    </tr>\n",
       "  </tbody>\n",
       "</table>\n",
       "</div>"
      ]
     },
     "execution_count": 20,
     "metadata": {},
     "output_type": "execute_result"
    }
   ],
   "execution_count": 20
  },
  {
   "metadata": {},
   "cell_type": "markdown",
   "source": [
    "Исходя из кросс-таблицы, можно сделать следующие выводы:\n",
    "\n",
    "Модели автомобилей имеют различное распределение по цветам. Например, модель SE чаще всего встречается в черном, красном и белом цветах.\n",
    "Модель SES имеет более равномерное распределение по цветам, с наибольшим количеством автомобилей в черном, серебристом и красном цветах.\n",
    "Модель SEL встречается реже и имеет наименьшее разнообразие по цветам, однако также преобладают черные и серебристые автомобили.\n",
    "Связь между моделью и цветом можно рассматривать как существующую, поскольку некоторые модели автомобилей, очевидно, более популярны в определённых цветах."
   ]
  },
  {
   "metadata": {},
   "cell_type": "markdown",
   "source": [
    "1. Что такое структура данных?\n",
    "* Структура данных — это способ организации, хранения и управления данными, чтобы их можно было эффективно использовать.\n",
    "\n",
    "2. Какие базовые наборы изменений обычно применяются к числовым данным?\n",
    "* Операции включают нахождение среднего, медианы, минимальных и максимальных значений, дисперсии и стандартного отклонения.\n",
    "\n",
    "3. Почему в ходе исследования данных запрашивают как средние, так и медианные значения числовых переменных?\n",
    "* Среднее чувствительно к выбросам, а медиана более устойчива к аномалиям, что даёт более полное представление о данных.\n",
    "\n",
    "4. Что такое «пятичисловая сводка»? Для каких целей она используется?\n",
    "* Пятичисловая сводка включает минимум, первый квартиль, медиану, третий квартиль и максимум. Используется для анализа распределения данных.\n",
    "\n",
    "5. Что отображает диаграмма размаха?\n",
    "* Диаграмма размаха отображает диапазон данных, включая выбросы, медиану и квартильные значения.\n",
    "\n",
    "6. Что отображает гистограмма?\n",
    "* Гистограмма показывает распределение данных по интервалам.\n",
    "\n",
    "7. Как выглядит гистограмма равномерного распределения?\n",
    "* Гистограмма равномерного распределения выглядит как ровная горизонтальная линия, где частоты примерно одинаковы во всех интервалах.\n",
    "\n",
    "8. Как выглядит кривая нормального распределения?\n",
    "* Кривая нормального распределения имеет форму колокола с пиком в центре и симметричными «крыльями».\n",
    "\n",
    "9. Что измеряется стандартным отклонением?\n",
    "* Стандартное отклонение измеряет, насколько сильно данные разбросаны вокруг среднего значения.\n",
    "\n",
    "10. Что гласит правило «68–95–99,7»?\n",
    "* Правило утверждает, что 68% данных находятся в пределах одного стандартного отклонения от среднего, 95% — в пределах двух, и 99,7% — в пределах трёх.\n",
    "\n",
    "11. Что отображает таблица частотности?\n",
    "* Таблица частотности показывает, как часто каждое значение встречается в наборе данных.\n",
    "\n",
    "12. Для каких целей строится диаграмма разброса?\n",
    "* Диаграмма разброса используется для визуализации зависимости между двумя переменными.\n",
    "\n",
    "13. Что показывают перекрестные таблицы (кросс-таблицы, таблицы сопряженности)?\n",
    "* Кросс-таблицы показывают частоту совместного появления двух категориальных переменных, что помогает выявить взаимосвязи между ними."
   ]
  },
  {
   "metadata": {},
   "cell_type": "code",
   "outputs": [],
   "execution_count": null,
   "source": ""
  }
 ]
}
